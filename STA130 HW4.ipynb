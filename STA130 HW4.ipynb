{
 "cells": [
  {
   "cell_type": "markdown",
   "id": "f27483ca",
   "metadata": {},
   "source": [
    "# STA130 Homework 4 Due Oct.3"
   ]
  },
  {
   "cell_type": "markdown",
   "id": "52a5f095",
   "metadata": {},
   "source": [
    "# Pre-lecture Question"
   ]
  },
  {
   "cell_type": "markdown",
   "id": "71652c4c",
   "metadata": {},
   "source": [
    "# Q1"
   ]
  },
  {
   "cell_type": "markdown",
   "id": "c2264488",
   "metadata": {},
   "source": [
    "The standard error of the mean (SEM) and the standard deviation (SD) represent two distinct concepts related to variability. SD measures the spread of individual data points in a dataset, showing how much they deviate from the mean. A larger SD indicates that the data points are more spread out, while a smaller SD suggests they are closely clustered around the mean. In contrast, SEM quantifies the uncertainty in the sample mean, indicating how much the mean would vary if multiple samples were drawn from the same population. A smaller SEM means the sample mean is a more accurate estimate of the population mean, whereas a larger SEM reflects greater uncertainty. While SD describes the variability within a dataset, SEM captures the variability of the sample mean across different samples. Bootstrapping, as explained in the pre-lecture video, is a resampling technique that estimates SEM by drawing multiple samples with replacement and calculating the standard deviation of these sample means, reflecting the variability of the sample mean."
   ]
  },
  {
   "cell_type": "markdown",
   "id": "59d0513c",
   "metadata": {},
   "source": [
    "# Q2"
   ]
  },
  {
   "cell_type": "markdown",
   "id": "1c871ea9",
   "metadata": {},
   "source": [
    "Calculate the sample mean: First, find the average of your data points.\n",
    "\n",
    "Determine the standard error (SE): The SE is the standard deviation of the sample divided by the square root of the sample size.\n",
    "\n",
    "Find the critical value: For a 95% confidence interval, the critical value is typically around 1.96 (this value comes from the standard normal distribution).\n",
    "\n",
    "Calculate the margin of error: Multiply the standard error by the critical value (1.96 in this case).\n",
    "\n",
    "Construct the confidence interval: Add and subtract the margin of error to/from the sample mean to get the lower and upper bounds of the interval."
   ]
  },
  {
   "cell_type": "markdown",
   "id": "88e19ad9",
   "metadata": {},
   "source": [
    "# Q3"
   ]
  },
  {
   "cell_type": "markdown",
   "id": "27815aaf",
   "metadata": {},
   "source": [
    "To create a 95% bootstrapped confidence interval using the percentile method, we start by generating many bootstrapped samples from the original dataset through resampling with replacement. For each of these bootstrapped samples, we calculate the mean, resulting in a distribution of bootstrapped means. Next, we sort these means in ascending order and then determine the 2.5th and 97.5th percentiles, which represent the lower and upper bounds of the confidence interval. This method forms a confidence interval by excluding the lowest and highest 2.5% of the bootstrapped means, providing a range where the true population mean is likely to fall. Unlike traditional methods, it doesn’t assume normality, making it more robust when dealing with non-normal data."
   ]
  },
  {
   "cell_type": "markdown",
   "id": "549d66ab",
   "metadata": {},
   "source": [
    "# Q4 code provided by Chatbot with my own inline explanatory comments"
   ]
  },
  {
   "cell_type": "code",
   "execution_count": 1,
   "id": "5f33083f",
   "metadata": {},
   "outputs": [
    {
     "name": "stdout",
     "output_type": "stream",
     "text": [
      "95% bootstrap confidence interval for the population mean: [6.38, 7.970000000000001]\n",
      "95% bootstrap confidence interval for the population median: [6.1, 8.1]\n"
     ]
    }
   ],
   "source": [
    "import numpy as np\n",
    "\n",
    "# define a Function to compute the bootstrap confidence interval for any statistic\n",
    "def bootstrap_confidence_interval(data, num_bootstrap_samples=10000, statistic=np.mean, confidence_level=0.95):\n",
    "    \"\"\"\n",
    "    This function computes the bootstrap confidence interval for any statistic (mean, median, etc.).\n",
    "    \n",
    "    Parameters:\n",
    "    - data: The original sample of data.\n",
    "    - num_bootstrap_samples: Number of bootstrap samples to draw (default 10,000).\n",
    "    - statistic: The statistic for which to calculate the confidence interval (default is np.mean).\n",
    "    - confidence_level: The confidence level for the interval (default is 95%).\n",
    "    \n",
    "    Returns:\n",
    "    - lower_bound: The lower bound of the confidence interval.\n",
    "    - upper_bound: The upper bound of the confidence interval.\n",
    "    \"\"\"\n",
    "    \n",
    "    # Create an empty array with bootstrap samples\n",
    "    bootstrap_statistics = np.empty(num_bootstrap_samples)\n",
    "    \n",
    "    # starts a for-loop that will run num_bootstrap_samples times (10000 times)\n",
    "    for i in range(num_bootstrap_samples):\n",
    "        # creates a bootstrap sample which is random choose from the original dataset\n",
    "        bootstrap_sample = np.random.choice(data, size=len(data), replace=True)\n",
    "        \n",
    "        # Calculate the statistic of bootstrap sample\n",
    "        bootstrap_statistics[i] = statistic(bootstrap_sample)\n",
    "    \n",
    "    # Calculate the lower and upper percentiles for a 95% confidence interval\n",
    "    lower_percentile = (1 - confidence_level) / 2 * 100\n",
    "    upper_percentile = (1 + confidence_level) / 2 * 100\n",
    "    lower_bound = np.percentile(bootstrap_statistics, lower_percentile)\n",
    "    upper_bound = np.percentile(bootstrap_statistics, upper_percentile)\n",
    "    \n",
    "    return lower_bound, upper_bound\n",
    "\n",
    "\n",
    "sample_data = np.array([5.2, 7.3, 6.1, 8.4, 9.7, 6.8, 7.5, 5.9, 6.4, 8.1])  # bootstrap samples\n",
    "\n",
    "# Get the 95% confidence interval for the population mean\n",
    "mean_lower_bound, mean_upper_bound = bootstrap_confidence_interval(sample_data, statistic=np.mean)\n",
    "\n",
    "print(f\"95% bootstrap confidence interval for the population mean: [{mean_lower_bound}, {mean_upper_bound}]\")\n",
    "\n",
    "# Get the 95% confidence interval for the population median\n",
    "median_lower_bound, median_upper_bound = bootstrap_confidence_interval(sample_data, statistic=np.median)\n",
    "\n",
    "print(f\"95% bootstrap confidence interval for the population median: [{median_lower_bound}, {median_upper_bound}]\")\n"
   ]
  },
  {
   "cell_type": "markdown",
   "id": "445aeecc",
   "metadata": {},
   "source": [
    "# Summaries of ChatBot session of all prelecture questions"
   ]
  },
  {
   "cell_type": "markdown",
   "id": "59cc8e8a",
   "metadata": {},
   "source": [
    "Here’s a summary of our exchanges regarding bootstrapping and confidence intervals, which you can submit as a record for your homework assignment:\n",
    "\n",
    "---\n",
    "\n",
    "### Interaction Summary:\n",
    "\n",
    "1. **Explaining Standard Error vs. Standard Deviation**:\n",
    "   - We started by clarifying the distinction between **standard error of the mean (SEM)** and **standard deviation (SD)** of the original data. SD measures the variability within the original dataset, while SEM measures the variability of the sample mean across different samples.\n",
    "\n",
    "2. **Creating Confidence Intervals Using SEM**:\n",
    "   - We discussed how to use SEM to create a **95% confidence interval** for the sample mean:\n",
    "     \\[\n",
    "     \\text{CI} = \\bar{x} \\pm 1.96 \\times SEM\n",
    "     \\]\n",
    "     This method assumes that the sample means follow a normal distribution and covers approximately 95% of the bootstrapped means.\n",
    "\n",
    "3. **Bootstrapped Confidence Intervals Without SEM**:\n",
    "   - You asked how to calculate a **95% bootstrapped confidence interval** without relying on SEM. We explored the **percentile method**, where you:\n",
    "     - Generate many bootstrapped samples.\n",
    "     - Compute the statistic (e.g., mean) for each sample.\n",
    "     - Find the 2.5th and 97.5th percentiles of these bootstrapped statistics to form the confidence interval.\n",
    "\n",
    "4. **Extending to Other Statistics (e.g., Median)**:\n",
    "   - We also discussed that this approach applies not just to the mean, but also to other statistics like the **median**. To calculate a bootstrap confidence interval for the median, you simply replace `np.mean` with `np.median` when calling the function.\n",
    "\n",
    "5. **Detailed Python Code for Bootstrapping**:\n",
    "   - I provided and explained Python code for computing a **95% bootstrap confidence interval** for any statistic (mean, median, etc.). The code was structured in a way that makes it easy to modify the statistic being calculated by adjusting the function parameter (`np.mean`, `np.median`, etc.).\n",
    "\n",
    "6. **Line-by-Line Code Explanation**:\n",
    "   - We walked through the Python code line by line, explaining how the bootstrapping process works, from generating resamples with replacement to calculating the desired statistic and computing the percentile-based confidence interval.\n",
    "\n",
    "7. **Example Output for the Mean and Median**:\n",
    "   - I showed how the code could be used to calculate and print a 95% bootstrap confidence interval for both the **population mean** and the **population median**.\n",
    "\n",
    "---\n",
    "\n",
    "This summary captures the key points and code explanations from our discussion, which you can submit as part of your homework. Let me know if you need any adjustments or additional details!"
   ]
  },
  {
   "cell_type": "code",
   "execution_count": null,
   "id": "3649237e",
   "metadata": {},
   "outputs": [],
   "source": [
    "Link: https://chatgpt.com/share/66ff3677-9228-8001-a855-1f68ed8a5567"
   ]
  },
  {
   "cell_type": "markdown",
   "id": "4f5a1b30",
   "metadata": {},
   "source": [
    "# Post-lecture Question"
   ]
  },
  {
   "cell_type": "markdown",
   "id": "ba096a91",
   "metadata": {},
   "source": [
    "# Q5"
   ]
  },
  {
   "cell_type": "markdown",
   "id": "c0719e19",
   "metadata": {},
   "source": [
    "When creating a confidence interval, it’s important to understand the difference between the population parameter and the sample statistic. The population parameter is the true, but usually unknown, value that describes the population, like the population mean or proportion. It’s a fixed value, but we don’t have direct access to it. The sample statistic, like the sample mean or proportion, is calculated from the sample data and serves as an estimate of the population parameter. Since it’s based on a random sample, the sample statistic can change from sample to sample.\n",
    "\n",
    "This distinction matters because confidence intervals are built around the sample statistic to estimate the range that likely contains the true population parameter with a certain level of confidence. The sample statistic can vary, which causes the confidence interval to vary, while the population parameter is fixed but unknown. A confidence interval shows the range of plausible values for the population parameter, not the sample statistic. "
   ]
  },
  {
   "cell_type": "markdown",
   "id": "f2a0eac8",
   "metadata": {},
   "source": [
    "# Q6"
   ]
  },
  {
   "cell_type": "markdown",
   "id": "92ab2951",
   "metadata": {},
   "source": [
    "# What is the process of bootstrapping?\n",
    "\n",
    "Bootstrapping is basically a way to estimate things, like averages or other statistics, by using your sample data over and over again. Imagine you have a sample of data from a population, and you want to figure out what the population might look like or calculate something like the average. Instead of just using that one sample, you take many new samples from your sample. These new samples are the same size as your original, but here's the trick: you randomly choose data points with replacement. So, you can pick the same point multiple times in one of these new samples. After doing this a bunch of times, you analyze all those new samples to get an idea of how variable the statistic you're interested in is."
   ]
  },
  {
   "cell_type": "markdown",
   "id": "702cda74",
   "metadata": {},
   "source": [
    "# What is the main purpose of bootstrapping?\n",
    "\n",
    "The main purpose of bootstrapping is to estimate the uncertainty or variation in your statistic when you don't have direct access to the entire population. It's super useful when you want to know how reliable your estimate is, like if you have an average but want to know how confident you can be in it. It helps create things like confidence intervals or get a sense of how much the statistic might change if we could take multiple different samples. Essentially, it helps you understand how much your results might vary if you were able to resample the population a bunch of times."
   ]
  },
  {
   "cell_type": "markdown",
   "id": "8ede3b7b",
   "metadata": {},
   "source": [
    "# If you had a (hypothesized) guess about what the average of a population was, and you had a sample of size n from that population, how could you use bootstrapping to assess whether or not your (hypothesized) guess might be plausible?\n",
    "\n",
    "When you have an estimate, like thinking the average height in a town is 170 cm, but you only have a sample of n people from the town. To check if your estimate is reasonable, you can use bootstrapping. Start by resampling from your original sample multiple times (with replacement), and each time, calculate the average. After doing this many times, you’ll get a collection of bootstrapped averages. By looking at the distribution of these averages, you can see if your estimate of 170 cm falls within the typical range (like within the 95% confidence interval). If it does, your estimate is likely reasonable, but if it's far outside that range, it might not be accurate for the population."
   ]
  },
  {
   "cell_type": "markdown",
   "id": "715a5417",
   "metadata": {},
   "source": [
    "# Q7"
   ]
  },
  {
   "cell_type": "markdown",
   "id": "421cc999",
   "metadata": {},
   "source": [
    "In hypothesis testing, if the confidence interval includes zero, it means we can't confidently say the drug has an effect, so we \"fail to reject the null hypothesis\" that assumes no effect. Even though the sample mean might not be zero, there's variability in the sample, and the confidence interval accounts for that uncertainty. If zero is within the range, the drug might have no real effect.\n",
    "\n",
    "However, if the confidence interval doesn’t include zero, it suggests the drug likely does have an effect, so we \"reject the null hypothesis.\" Essentially, the confidence interval helps us decide whether we have enough evidence to support that the drug is making a difference."
   ]
  },
  {
   "cell_type": "markdown",
   "id": "ff2d0035",
   "metadata": {},
   "source": [
    "# Q8"
   ]
  },
  {
   "cell_type": "code",
   "execution_count": 2,
   "id": "8d0faf72",
   "metadata": {},
   "outputs": [
    {
     "name": "stdout",
     "output_type": "stream",
     "text": [
      "Observed mean difference: 3.3\n",
      "95% confidence interval: [0.7, 5.5]\n"
     ]
    }
   ],
   "source": [
    "import pandas as pd\n",
    "import numpy as np\n",
    "\n",
    "# Set the random seed for reproducibility\n",
    "np.random.seed(42)\n",
    "\n",
    "# Load the data into a DataFrame\n",
    "data = {\n",
    "    \"PatientID\": [1, 2, 3, 4, 5, 6, 7, 8, 9, 10],\n",
    "    \"Age\": [45, 34, 29, 52, 37, 41, 33, 48, 26, 39],\n",
    "    \"Gender\": [\"M\", \"F\", \"M\", \"F\", \"M\", \"F\", \"M\", \"F\", \"M\", \"F\"],\n",
    "    \"InitialHealthScore\": [84, 78, 83, 81, 81, 80, 79, 85, 76, 83],\n",
    "    \"FinalHealthScore\": [86, 86, 80, 86, 84, 86, 86, 82, 83, 84]\n",
    "}\n",
    "\n",
    "df = pd.DataFrame(data)\n",
    "\n",
    "# Calculate the observed mean difference in health scores\n",
    "df['HealthDifference'] = df['FinalHealthScore'] - df['InitialHealthScore']\n",
    "observed_mean_diff = df['HealthDifference'].mean()\n",
    "\n",
    "# Perform bootstrapping\n",
    "n_bootstrap_samples = 1000\n",
    "bootstrap_mean_diffs = []\n",
    "\n",
    "for _ in range(n_bootstrap_samples):\n",
    "    bootstrap_sample = df.sample(frac=1, replace=True)\n",
    "    bootstrap_mean_diff = bootstrap_sample['HealthDifference'].mean()\n",
    "    bootstrap_mean_diffs.append(bootstrap_mean_diff)\n",
    "\n",
    "# Calculate the 95% confidence interval\n",
    "lower_bound = np.percentile(bootstrap_mean_diffs, 2.5)\n",
    "upper_bound = np.percentile(bootstrap_mean_diffs, 97.5)\n",
    "\n",
    "# Print the observed mean difference and confidence interval\n",
    "print(f\"Observed mean difference: {observed_mean_diff}\")\n",
    "print(f\"95% confidence interval: [{lower_bound}, {upper_bound}]\")\n"
   ]
  },
  {
   "cell_type": "code",
   "execution_count": 4,
   "id": "6db6444c",
   "metadata": {},
   "outputs": [
    {
     "data": {
      "image/png": "[encoded data removed]",
      "text/plain": [
       "<Figure size 800x500 with 1 Axes>"
      ]
     },
     "metadata": {},
     "output_type": "display_data"
    }
   ],
   "source": [
    "# Sample code for visualization (assuming matplotlib and seaborn are available)\n",
    "import matplotlib.pyplot as plt\n",
    "import seaborn as sns\n",
    "\n",
    "# Plotting initial vs. final health scores\n",
    "plt.figure(figsize=(8, 5))\n",
    "sns.scatterplot(x=df['InitialHealthScore'], y=df['FinalHealthScore'], hue=df['Gender'], s=100)\n",
    "plt.plot([75, 90], [75, 90], color='red', linestyle='--', label='No Change')\n",
    "plt.title('Initial vs. Final Health Scores')\n",
    "plt.xlabel('Initial Health Score')\n",
    "plt.ylabel('Final Health Score')\n",
    "plt.legend()\n",
    "plt.show()\n"
   ]
  },
  {
   "cell_type": "markdown",
   "id": "0ba50f99",
   "metadata": {},
   "source": [
    "The scatterplot shows each patient's initial and final health scores. The red dashed line represents no change in health scores, and points above the line suggest an improvement in health after the vaccine."
   ]
  },
  {
   "cell_type": "markdown",
   "id": "df04e27d",
   "metadata": {},
   "source": [
    "# Summary of the report\n",
    "**Problem Introduction**:  \n",
    "The analysis aims to assess whether a new vaccine improves patient health by comparing health scores before and after vaccination. We use bootstrapping to determine if there is a significant effect.\n",
    "\n",
    "**Null Hypothesis**:  \n",
    "The null hypothesis (\\( H_0 \\)) states that the vaccine has no effect, meaning the average difference between final and initial health scores is zero. The alternative hypothesis (\\( H_A \\)) suggests the vaccine has an effect, meaning the average difference is not zero.\n",
    "\n",
    "**Data Visualization**:  \n",
    "A scatterplot compares initial and final health scores, with points above a reference line suggesting improvement.\n",
    "\n",
    "**Quantitative Analysis**:  \n",
    "Bootstrapping is used to generate a distribution of mean health score differences. A 95% confidence interval is calculated to test the null hypothesis.\n",
    "\n",
    "**Methodology**:  \n",
    "The analysis involves calculating the observed mean difference, resampling the data with bootstrapping, and constructing a confidence interval.\n",
    "\n",
    "**Findings**:  \n",
    "The confidence interval is used to determine whether we can reject or fail to reject the null hypothesis. If zero is included in the interval, we fail to reject; otherwise, we reject the null hypothesis.\n",
    "\n",
    "**Conclusion**:  \n",
    "The conclusion depends on whether the confidence interval excludes zero, determining if the vaccine has a significant effect or not.\n",
    "\n",
    "**Further Considerations**:  \n",
    "The small sample size, potential confounding factors, and short-term data limit the findings, and larger or longer-term studies are recommended.\n",
    "\n"
   ]
  },
  {
   "cell_type": "markdown",
   "id": "4dd1f83a",
   "metadata": {},
   "source": [
    "# Q9"
   ]
  },
  {
   "cell_type": "markdown",
   "id": "1a3abbbc",
   "metadata": {},
   "source": [
    "YES"
   ]
  },
  {
   "cell_type": "markdown",
   "id": "6d779280",
   "metadata": {},
   "source": [
    "# Summaries of ChatBot session of all post-lecture questions:"
   ]
  },
  {
   "cell_type": "markdown",
   "id": "caa535c8",
   "metadata": {},
   "source": [
    "Here is a summarized record of our exchanges for your homework submission:\n",
    "\n",
    "---\n",
    "\n",
    "### Summary of Interactions:\n",
    "\n",
    "1. **Confidence Interval & Hypothesis Testing**:\n",
    "   You inquired about why a confidence interval overlapping zero means \"failing to reject the null hypothesis,\" even when the sample mean is not zero. We discussed how a confidence interval provides a range of plausible values for a population parameter. If zero is within this range, it implies that the sample does not provide strong enough evidence to conclude that the population mean is different from zero, leading to a failure to reject the null hypothesis.\n",
    "\n",
    "2. **Bootstrapping for Vaccine Effectiveness**:\n",
    "   You provided a dataset related to a vaccine study and asked whether the vaccine is effective based on health scores before and after the treatment. We implemented bootstrapping to calculate the 95% confidence interval for the mean difference in health scores. We discussed that if the confidence interval excludes zero, the vaccine is likely effective, and the null hypothesis can be rejected.\n",
    "\n",
    "3. **Reproducibility in Random Processes**:\n",
    "   You highlighted the importance of reproducibility when using random functions. We included `np.random.seed()` in the bootstrapping analysis to ensure the results are consistent each time the analysis is run.\n",
    "\n",
    "4. **Organizing the Report**:\n",
    "   You requested help organizing your findings into a structured report. We outlined a report template that includes sections like Problem Introduction, Explanation of the Null Hypothesis, Data Visualization, Quantitative Analysis, Methodology, Supporting Visualizations, Findings, Conclusion, and Further Considerations.\n",
    "\n",
    "5. **Summary for Submission**:\n",
    "   You asked for a summary of our exchanges, and this document serves as the final record for submission, summarizing the key points from each interaction regarding confidence intervals, bootstrapping, reproducibility, and report organization.\n",
    "\n",
    "---\n",
    "\n",
    "This summary captures the essence of our discussions and your progress in understanding key statistical concepts for your assignment."
   ]
  },
  {
   "cell_type": "markdown",
   "id": "e2f808bd",
   "metadata": {},
   "source": [
    "Link:https://chatgpt.com/share/66fcc2eb-ebac-8001-98dd-2126d2aaeb0f"
   ]
  },
  {
   "cell_type": "code",
   "execution_count": null,
   "id": "f35ef875",
   "metadata": {},
   "outputs": [],
   "source": []
  },
  {
   "cell_type": "code",
   "execution_count": null,
   "id": "83b2b014",
   "metadata": {},
   "outputs": [],
   "source": []
  },
  {
   "cell_type": "code",
   "execution_count": null,
   "id": "e55479fd",
   "metadata": {},
   "outputs": [],
   "source": []
  }
 ],
 "metadata": {
  "kernelspec": {
   "display_name": "Python 3 (ipykernel)",
   "language": "python",
   "name": "python3"
  },
  "language_info": {
   "codemirror_mode": {
    "name": "ipython",
    "version": 3
   },
   "file_extension": ".py",
   "mimetype": "text/x-python",
   "name": "python",
   "nbconvert_exporter": "python",
   "pygments_lexer": "ipython3",
   "version": "3.11.6"
  }
 },
 "nbformat": 4,
 "nbformat_minor": 5
}
